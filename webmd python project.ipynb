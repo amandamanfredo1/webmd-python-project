{
 "cells": [
  {
   "cell_type": "code",
   "execution_count": null,
   "id": "42e6906d",
   "metadata": {},
   "outputs": [],
   "source": [
    "import pandas as pd\n",
    "import numpy as np\n",
    "import matplotlib.pyplot as plt\n",
    "%matplotlib inline\n",
    "import seaborn as sns\n",
    "webmd = pd.read_csv('webmd.csv')"
   ]
  },
  {
   "cell_type": "code",
   "execution_count": null,
   "id": "1a493f1e",
   "metadata": {},
   "outputs": [],
   "source": [
    "#drug id irrelevant for stats- 362,806 reviews total(803 after removing outliers)\n",
    "webmd.shape"
   ]
  },
  {
   "cell_type": "code",
   "execution_count": null,
   "id": "19689175",
   "metadata": {},
   "outputs": [],
   "source": [
    "#'UsefulCount' column not needed. delete to save space\n",
    "del webmd['UsefulCount']\n",
    "\n",
    "#look at head to get an idea of database\n",
    "webmd.head(5)"
   ]
  },
  {
   "cell_type": "code",
   "execution_count": null,
   "id": "4a2fe77a",
   "metadata": {},
   "outputs": [],
   "source": [
    "#look at all columns to decide which to look at for analysis\n",
    "webmd.columns.tolist()"
   ]
  },
  {
   "cell_type": "code",
   "execution_count": null,
   "id": "87d54ffd",
   "metadata": {},
   "outputs": [],
   "source": [
    "#finding outliers in the data with reviews of the max 5 rating\n",
    "\n",
    "outies=webmd.loc[webmd['Effectiveness']>5]\n",
    "outies \n",
    "\n",
    "#all for migraine medications=relevant?\n",
    "#appears the 6's are duplicates"
   ]
  },
  {
   "cell_type": "code",
   "execution_count": null,
   "id": "640c4fec",
   "metadata": {},
   "outputs": [],
   "source": [
    "#eliminating outliers from the database\n",
    "webmd=webmd.loc[webmd['Effectiveness']<=5]"
   ]
  },
  {
   "cell_type": "code",
   "execution_count": null,
   "id": "3320d0a9",
   "metadata": {},
   "outputs": [],
   "source": [
    "#narrowing down to drug reviews for only depression to see overall trends\n",
    "depression=webmd.loc[webmd['Condition']=='Depression']\n",
    "\n",
    "#looking at the statistics for the depression indication overall\n",
    "depression.describe()"
   ]
  },
  {
   "cell_type": "code",
   "execution_count": null,
   "id": "a9e49c74",
   "metadata": {
    "scrolled": true
   },
   "outputs": [],
   "source": [
    "#graphing the depression medications of all classes by their satisfaction rating\n",
    "depression.groupby('Drug')['Satisfaction'].median().sort_values(ascending=False).plot.bar(color='green')"
   ]
  },
  {
   "cell_type": "code",
   "execution_count": null,
   "id": "47d4f906",
   "metadata": {},
   "outputs": [],
   "source": [
    "#identifying each ssri based on their drugid for the generic and brand name\n",
    "\n",
    "#generic zoloft is drugid 1\n",
    "sertraline=webmd.loc[webmd['DrugId']==1]\n",
    "\n",
    "#adding brand zoloft drugid35\n",
    "zoloft=sertraline.append(webmd.loc[webmd['DrugId']==35])\n",
    "\n",
    "\n",
    "#renaming to include brand and generic name\n",
    "zoloft['Drug']='Zoloft(sertraline)'\n",
    "\n",
    "#gauge the amount of records for each drug\n",
    "zoloft['Drug'].value_counts()"
   ]
  },
  {
   "cell_type": "code",
   "execution_count": null,
   "id": "f21a2fb5",
   "metadata": {},
   "outputs": [],
   "source": [
    "#identifying lexapro based on drug id for generic and brand names\n",
    "\n",
    "#generic lexapro\n",
    "escit=webmd.loc[webmd['DrugId']==63990]\n",
    "\n",
    "#brand lexapro drug id added\n",
    "lexapro=escit.append(webmd.loc[webmd['DrugId']==63989])\n",
    "\n",
    "#renaming to both brand and generic name for indentification\n",
    "lexapro['Drug']='Lexapro(escitalopram)'\n",
    "\n",
    "#gauge the amount of records for each drug\n",
    "lexapro['Drug'].value_counts()"
   ]
  },
  {
   "cell_type": "code",
   "execution_count": null,
   "id": "ec5ff332",
   "metadata": {},
   "outputs": [],
   "source": [
    "#identifying  celexa into a df for brand and generic based on their drugid\n",
    "cital=webmd.loc[webmd['DrugId']==1701]\n",
    "celexa=cital.append(webmd.loc[webmd['DrugId']==8603])\n",
    "\n",
    "#renaming the drug to include brand and generic name\n",
    "celexa['Drug']='Celexa(citalopram)'\n",
    "\n",
    "#gauge the amount of records for each drug\n",
    "celexa['Drug'].value_counts()"
   ]
  },
  {
   "cell_type": "code",
   "execution_count": null,
   "id": "c85de4f2",
   "metadata": {},
   "outputs": [],
   "source": [
    "#identifying the brand and generic based on drug id and adding to df\n",
    "fluox=webmd.loc[webmd['DrugId']==1774]\n",
    "prozac=fluox.append(webmd.loc[webmd['DrugId']==6997])\n",
    "\n",
    "#renaming drug to include brand and generic name for clarity\n",
    "prozac['Drug']='Prozac(fluoxetine)'"
   ]
  },
  {
   "cell_type": "code",
   "execution_count": null,
   "id": "daef2eba",
   "metadata": {},
   "outputs": [],
   "source": [
    "#identifying brand and generic name based on drug id and grouping together\n",
    "parox=webmd.loc[webmd['DrugId']==6969]\n",
    "paxil=parox.append(webmd.loc[webmd['DrugId']==6968])\n",
    "\n",
    "#renaming drug for clarity with brand and generic name\n",
    "paxil['Drug']='Paxil(paroxetine)'\n",
    "\n",
    "#gauging the amount of records for the drug\n",
    "paxil['Drug'].value_counts()"
   ]
  },
  {
   "cell_type": "code",
   "execution_count": null,
   "id": "46701905",
   "metadata": {},
   "outputs": [],
   "source": [
    "#creating one large dataframe with all the ssri's we will be looking at\n",
    "depressiondrugs=[zoloft,lexapro,celexa,prozac,paxil]\n",
    "depressiondrugs=pd.concat(depressiondrugs)\n",
    "depressiondrugs=pd.DataFrame(depressiondrugs)\n",
    "\n",
    "#seeing the amount of different conditions they are being used to treat\n",
    "depressiondrugs.Condition.value_counts()"
   ]
  },
  {
   "cell_type": "markdown",
   "id": "bbf3e2e4",
   "metadata": {},
   "source": [
    "## EDA of the Different Drugs\n",
    "\n",
    "Comparison of effectiveness, ease of use and satisfaction of each medication in general"
   ]
  },
  {
   "cell_type": "code",
   "execution_count": null,
   "id": "5fa1e060",
   "metadata": {
    "scrolled": true
   },
   "outputs": [],
   "source": [
    "#graphing the average satisfaction rating for each ssri\n",
    "depressiondrugs.groupby('Drug')['Satisfaction'].mean().plot.bar(color =['#00FF33','#ff66ff','#00CCFF','#AAF2D1','#ff0099'])\n",
    "plt.title(\"Average Satisfaction By Drug\", fontsize=15)\n",
    "plt.ylabel('Average Rating')\n",
    "plt.ylim([3.2,3.6])\n"
   ]
  },
  {
   "cell_type": "code",
   "execution_count": null,
   "id": "637f7476",
   "metadata": {
    "scrolled": true
   },
   "outputs": [],
   "source": [
    "#plotting the satisfaction by drug on a boxplots to see more distribution\n",
    "ax = sns.boxplot(x=\"Drug\", y=\"Satisfaction\",data=depressiondrugs, palette=\"Set3\")\n",
    "#they all look pretty similar and medians look the same\n",
    "#its hard to use boxplot here because all medications have the same upper and lower bounds"
   ]
  },
  {
   "cell_type": "code",
   "execution_count": null,
   "id": "9ae5959b",
   "metadata": {
    "scrolled": true
   },
   "outputs": [],
   "source": [
    "#plotting the ease of use for each drug\n",
    "depressiondrugs.groupby('Drug')['EaseofUse'].mean().plot.bar(color=['#00FF33','#ff66ff','#00CCFF','#AAF2D1','#ff0099'])\n",
    "plt.title(\"Ease of Use by Drug\",fontsize=15)\n",
    "plt.ylabel('Average Rating')\n",
    "plt.ylim([4,4.4])"
   ]
  },
  {
   "cell_type": "code",
   "execution_count": null,
   "id": "05345ba8",
   "metadata": {
    "scrolled": false
   },
   "outputs": [],
   "source": [
    "#plotting the  average effectiveness rating for each ssri we are looking at\n",
    "depressiondrugs.groupby('Drug')['Effectiveness'].mean().plot.bar(color =['#00FF33','#ff66ff','#00CCFF','#AAF2D1','#ff0099'])\n",
    "plt.title('Average Effectiveness by Drug', fontsize=15)\n",
    "plt.ylabel('Average Rating')\n",
    "plt.ylim([3.4,3.8])"
   ]
  },
  {
   "cell_type": "code",
   "execution_count": null,
   "id": "fddbfe9f",
   "metadata": {
    "scrolled": false
   },
   "outputs": [],
   "source": [
    "#looking at the average ratings overall for each age group\n",
    "agedf=pd.DataFrame(depressiondrugs.groupby('Age').mean())\n",
    "agedf"
   ]
  },
  {
   "cell_type": "code",
   "execution_count": null,
   "id": "ca859879",
   "metadata": {},
   "outputs": [],
   "source": [
    "#scatter plot to show if there is any relationship between ease of use and satisfaction\n",
    "agedf.plot.scatter(x='EaseofUse',y='Satisfaction')"
   ]
  },
  {
   "cell_type": "code",
   "execution_count": null,
   "id": "40a8aed7",
   "metadata": {},
   "outputs": [],
   "source": [
    "ageorder=['7-12','13-18','19-24','25-34','35-44','45-54','55-64','65-74','75 or over']"
   ]
  },
  {
   "cell_type": "code",
   "execution_count": null,
   "id": "f2853c92",
   "metadata": {},
   "outputs": [],
   "source": [
    "#removing the empty ages from each dataframe before comparing effectiveness etc by age\n",
    "zoloft=zoloft[zoloft['Age']!=\" \"]\n",
    "lexapro=lexapro[lexapro['Age']!=' ']\n",
    "celexa=celexa[celexa['Age']!=' ']\n",
    "prozac=prozac[prozac['Age']!=' ']\n",
    "paxil=paxil[paxil['Age']!=' ']"
   ]
  },
  {
   "cell_type": "code",
   "execution_count": null,
   "id": "8ada460c",
   "metadata": {
    "scrolled": true
   },
   "outputs": [],
   "source": [
    "#plotting the average satisfaction by age for zoloft\n",
    "zoloft.groupby('Age')['Satisfaction'].mean().reindex(ageorder).plot.bar(color = 'b')\n",
    "plt.title('Zoloft Satisfaction by Age', fontsize=15)\n",
    "plt.ylim([2.5,4.2])\n",
    "plt.ylabel('Average Rating')"
   ]
  },
  {
   "cell_type": "code",
   "execution_count": null,
   "id": "b28c7fbd",
   "metadata": {
    "scrolled": true
   },
   "outputs": [],
   "source": [
    "#plotting average effectiveness by age for zoloft\n",
    "zoloft.groupby('Age')['Effectiveness'].mean().reindex(ageorder).plot.bar(color = 'b')\n",
    "plt.ylim([2,4.25])\n",
    "plt.title('Zoloft Effectiveness by Age', fontsize=15)\n",
    "plt.ylabel('Average Rating')"
   ]
  },
  {
   "cell_type": "code",
   "execution_count": null,
   "id": "3d429655",
   "metadata": {},
   "outputs": [],
   "source": [
    "#plotting lexapro satisfaction by age\n",
    "lexapro.groupby('Age')['Satisfaction'].mean().reindex(ageorder).plot.bar(color = '#AAF2D1');\n",
    "plt.title('Lexapro Satisfaction by Age', fontsize=15)\n",
    "plt.ylim([2.5,5])\n",
    "plt.ylabel('Average Rating')"
   ]
  },
  {
   "cell_type": "code",
   "execution_count": null,
   "id": "ad4ce4b1",
   "metadata": {},
   "outputs": [],
   "source": [
    "#plotting lexapro effectiveness by age\n",
    "lexapro.groupby('Age')['Effectiveness'].mean().reindex(ageorder).plot.bar(color = '#AAF2D1');\n",
    "plt.ylim([2.5,4.5])\n",
    "plt.title('Lexapro Effectiveness by Age', fontsize=15)\n",
    "plt.ylabel('Average Ratings')"
   ]
  },
  {
   "cell_type": "code",
   "execution_count": null,
   "id": "a08c47e2",
   "metadata": {},
   "outputs": [],
   "source": [
    "#plotting celexa satisfaction by age\n",
    "celexa.groupby('Age')['Satisfaction'].mean().reindex(ageorder).plot.bar(color = '#C5B5D4');\n",
    "plt.ylim([.75,3.7])\n",
    "plt.title('Celexa Satisfaction by Age',fontsize=15)\n",
    "plt.ylabel('Average Rating')"
   ]
  },
  {
   "cell_type": "code",
   "execution_count": null,
   "id": "776b9f9d",
   "metadata": {},
   "outputs": [],
   "source": [
    "#plotting lexapro effectiveness by age\n",
    "celexa.groupby('Age')['Effectiveness'].mean().reindex(ageorder).plot.bar(color = '#C5B5D4');\n",
    "plt.ylim([0.5,4])\n",
    "plt.title('Celexa Effectiveness by Age', fontsize=15)\n",
    "plt.ylabel('Average Rating')"
   ]
  },
  {
   "cell_type": "code",
   "execution_count": null,
   "id": "7defeb74",
   "metadata": {},
   "outputs": [],
   "source": [
    "#plotting prozac satisfaction by age\n",
    "prozac.groupby('Age')['Satisfaction'].mean().reindex(ageorder).plot.bar(color = '#ff0099');\n",
    "plt.ylim([1.5,3.7])\n",
    "plt.title('Prozac Satisfaction by Age', fontsize=15)\n",
    "plt.ylabel('Average Rating')"
   ]
  },
  {
   "cell_type": "code",
   "execution_count": null,
   "id": "2522236d",
   "metadata": {
    "scrolled": true
   },
   "outputs": [],
   "source": [
    "#plotting prozac effectiveness by age\n",
    "prozac.groupby('Age')['Effectiveness'].mean().reindex(ageorder).plot.bar(color = '#ff0099')\n",
    "plt.ylim([1.5,3.9])\n",
    "plt.title('Prozac Effectiveness by Age', fontsize=15)\n",
    "plt.ylabel('Average Rating')"
   ]
  },
  {
   "cell_type": "code",
   "execution_count": null,
   "id": "4aca6b0d",
   "metadata": {},
   "outputs": [],
   "source": [
    "#paxil not approved for use in children and adolescents.\n",
    "#fda says children under 18 shouldnt take paxil because of increased suicide risk"
   ]
  },
  {
   "cell_type": "code",
   "execution_count": null,
   "id": "32785521",
   "metadata": {},
   "outputs": [],
   "source": [
    "#plotting paxil satisfaction by age\n",
    "paxil.groupby('Age')['Satisfaction'].mean().reindex(ageorder).plot.bar(color = '#ff6600');\n",
    "plt.ylim([1.5,3.7])\n",
    "plt.title('Paxil Satisfaction by Age',fontsize=15)\n",
    "plt.ylabel('Average Rating')"
   ]
  },
  {
   "cell_type": "code",
   "execution_count": null,
   "id": "ddd73f7a",
   "metadata": {},
   "outputs": [],
   "source": [
    "#plotting paxil effectivness by age\n",
    "paxil.groupby('Age')['Effectiveness'].mean().reindex(ageorder).plot.bar(color = '#ff6600');\n",
    "plt.ylim([2,4.5])\n",
    "plt.title('Paxil Effectiveness by Age', fontsize=15)\n",
    "plt.ylabel('Average Rating')"
   ]
  },
  {
   "cell_type": "code",
   "execution_count": null,
   "id": "aa3b8412",
   "metadata": {
    "scrolled": true
   },
   "outputs": [],
   "source": [
    "e=sns.FacetGrid(depressiondrugs,row='Effectiveness', col='Drug').map(sns.histplot, \"Age\")\n"
   ]
  },
  {
   "cell_type": "code",
   "execution_count": null,
   "id": "835cdbbc",
   "metadata": {},
   "outputs": [],
   "source": [
    "#plotting the satisfaction by age for all drugs together for direct comparison\n",
    "barWidth=0.1\n",
    "\n",
    "\n",
    "#creating list so that ages are plotted in age order\n",
    "agelist=['7-12','13-18','19-24','25-34','35-44','45-54','55-64','65-74','75 or over']\n",
    "\n",
    "#creating a list for each drug\n",
    "alist=list(prozac.groupby('Age')['Satisfaction'].mean().reindex(ageorder))\n",
    "blist=list(celexa.groupby('Age')['Satisfaction'].mean().reindex(ageorder))\n",
    "clist=list(zoloft.groupby('Age')['Satisfaction'].mean().reindex(ageorder))\n",
    "dlist=list(lexapro.groupby('Age')['Satisfaction'].mean().reindex(ageorder))\n",
    "elist=list(paxil.groupby('Age')['Satisfaction'].mean().reindex(ageorder))\n",
    "\n",
    "br1 = np.arange(len(agelist))\n",
    "br2 = [x + barWidth for x in br1]\n",
    "br3= [x + barWidth for x in br2]\n",
    "br4= [x + barWidth for x in br3]\n",
    "br5= [x + barWidth for x in br4]\n",
    "\n",
    "#creating a plot for each drug\n",
    "bar1=plt.bar(br1,alist,width,color='#ff0099')\n",
    "\n",
    "bar2=plt.bar(br2,blist,width,color = '#ff66ff')\n",
    "\n",
    "bar3=plt.bar(br3, clist, width, color = '#ff0099')\n",
    "\n",
    "bar4=plt.bar(br4,dlist,width,color = '#AAF2D1')\n",
    "\n",
    "bar5=plt.bar(br5,elist,width,color = '#00CCFF')\n",
    "\n",
    "#moving each plot to overlap each other\n",
    "plt.xlabel('Age')\n",
    "plt.ylabel('Satisfaction')\n",
    "plt.title('Satisfaction by Age')\n",
    "plt.xticks([r + barWidth for r in range(len(agelist))],['7-12','13-18','19-24','25-34','35-44','45-54','55-64','65-74','75 or over'])\n",
    "plt.legend((bar1,bar2,bar3,bar4,bar5),('Prozac','Celexa','Zoloft','Lexapro','Paxil'))\n",
    "plt.ylim(1.9,4.2)"
   ]
  },
  {
   "cell_type": "code",
   "execution_count": null,
   "id": "c4d789d3",
   "metadata": {},
   "outputs": [],
   "source": [
    "#plotting the effectiveness overall by age for all drugs together\n",
    "barWidth=0.1\n",
    "#(x-0.2, y1, width, color='cyan')\n",
    "\n",
    "\n",
    "agelist=['7-12','13-18','19-24','25-34','35-44','45-54','55-64','65-74','75 or over']\n",
    "\n",
    "#creating a list of the means for each age group and drug\n",
    "alist=list(zoloft.groupby('Age')['Effectiveness'].mean().reindex(ageorder))\n",
    "blist=list(lexapro.groupby('Age')['Effectiveness'].mean().reindex(ageorder))\n",
    "clist=list(celexa.groupby('Age')['Effectiveness'].mean().reindex(ageorder))\n",
    "dlist=list(prozac.groupby('Age')['Effectiveness'].mean().reindex(ageorder))\n",
    "elist=list(paxil.groupby('Age')['Effectiveness'].mean().reindex(ageorder))\n",
    "\n",
    "br1 = np.arange(len(agelist))\n",
    "br2 = [x + barWidth for x in br1]\n",
    "br3= [x + barWidth for x in br2]\n",
    "br4= [x + barWidth for x in br3]\n",
    "br5= [x + barWidth for x in br4]\n",
    "\n",
    "#plotting the effectiveness by age group and drug\n",
    "bar1=plt.bar(br1,alist,width,color='#ff0099')\n",
    " \n",
    "bar2=plt.bar(br2,blist,width,color = '#ff66ff')\n",
    "\n",
    "bar3=plt.bar(br3, clist, width, color = '#00FF33')\n",
    "\n",
    "bar4=plt.bar(br4,dlist,width,color = '#AAF2D1')\n",
    "\n",
    "bar5=plt.bar(br5,elist,width,color = '#00CCFF')\n",
    "\n",
    "#shifting the bar plots so they are next to each other for comparison\n",
    "plt.xlabel('Age')\n",
    "plt.ylabel('Effectiveness')\n",
    "plt.title('Effectiveness by Age')\n",
    "plt.xticks([r + barWidth for r in range(len(agelist))],['7-12','13-18','19-24','25-34','35-44','45-54','55-64','65-74','75 or over'])\n",
    "plt.legend((bar1,bar2,bar3,bar4,bar5),('Zoloft','Lexapro','Celexa','Prozac','Paxil'))\n",
    "plt.ylim(1.9,4.2)\n"
   ]
  },
  {
   "cell_type": "code",
   "execution_count": null,
   "id": "2ebb002b",
   "metadata": {
    "scrolled": false
   },
   "outputs": [],
   "source": [
    "#removing drugs with no sex listed\n",
    "sexdrugs=depressiondrugs[depressiondrugs['Sex']!=\" \"]\n",
    "\n",
    "#plotting the effectiveness of each drug based on gender for comparison\n",
    "colors=['#ff0099','#ff66ff','#00FF33','#AAF2D1','#00CCFF']\n",
    "sns.set_palette(sns.color_palette(colors))\n",
    "sns.barplot(x='Sex', y='Effectiveness', hue='Drug', data=sexdrugs,saturation=.9)\n",
    "plt.ylim(3.3,4)\n",
    "plt.title('Effectiveness by Gender')"
   ]
  },
  {
   "cell_type": "code",
   "execution_count": null,
   "id": "c54e1447",
   "metadata": {},
   "outputs": [],
   "source": [
    "depressiondrugs.Condition.value_counts()"
   ]
  },
  {
   "cell_type": "code",
   "execution_count": null,
   "id": "8de2a43d",
   "metadata": {},
   "outputs": [],
   "source": [
    "depressiondrugs.groupby('Condition')['Effectiveness'].mean()"
   ]
  },
  {
   "cell_type": "code",
   "execution_count": null,
   "id": "70f58edc",
   "metadata": {},
   "outputs": [],
   "source": [
    "#narrowing it down to conditions with more than 300 reviews to compare\n",
    "commoncondition=depressiondrugs[depressiondrugs['Condition'].map(depressiondrugs['Condition'].value_counts() > 300)]\n",
    "\n",
    "#plotting the common conditions and their effectiveness based on the drug\n",
    "sns.barplot(x='Condition', y='Effectiveness', hue='Drug', data=commoncondition,saturation=.9, ci=None)\n",
    "plt.ylim(3,4.3)\n",
    "plt.title('Effectiveness by Condition')\n",
    "plt.legend(bbox_to_anchor=(1.05,1), loc=2, borderaxespad=0.)\n",
    "plt.xticks(fontsize=8, rotation=80)"
   ]
  },
  {
   "cell_type": "code",
   "execution_count": null,
   "id": "ce6ef852",
   "metadata": {},
   "outputs": [],
   "source": [
    "#plotting the satisfaction based on the condition treated\n",
    "sns.barplot(x='Condition', y='Satisfaction', hue='Drug', data=commoncondition,saturation=.9, ci=None)\n",
    "plt.ylim(2.5,4)\n",
    "plt.title('Satisfaction by Condition')\n",
    "plt.legend(bbox_to_anchor=(1.05,1), loc=2, borderaxespad=0.)\n",
    "plt.xticks(fontsize=8, rotation=80)"
   ]
  },
  {
   "cell_type": "code",
   "execution_count": null,
   "id": "ba961f23",
   "metadata": {},
   "outputs": [],
   "source": [
    "#to add conditions with under 300 reviews to 'other'\n",
    "counts = depressiondrugs['Condition'].value_counts()\n",
    "idx = counts[counts.lt(300)].index\n",
    "depressiondrugs['counts'] = depressiondrugs['Condition'].map(counts)\n",
    "depressiondrugs.loc[depressiondrugs['Condition'].isin(idx), 'Condition'] = 'Other'\n",
    "\n",
    "#looking at the distribution of value counts based on condition\n",
    "depressiondrugs.Condition.value_counts()"
   ]
  },
  {
   "cell_type": "code",
   "execution_count": null,
   "id": "9b17c1d0",
   "metadata": {},
   "outputs": [],
   "source": [
    "#plotting with expanded 'other' category\n",
    "sns.barplot(x='Condition', y='Satisfaction', hue='Drug', data=depressiondrugs,saturation=.9, ci=None)\n",
    "plt.ylim(2.5,4)\n",
    "plt.title('Satisfaction by Condition')\n",
    "plt.legend(bbox_to_anchor=(1.05,1), loc=2, borderaxespad=0.)\n",
    "plt.xticks(fontsize=8, rotation=80)"
   ]
  },
  {
   "cell_type": "code",
   "execution_count": null,
   "id": "2c55bb33",
   "metadata": {},
   "outputs": [],
   "source": [
    "#plotting with expanded 'other' category\n",
    "sns.barplot(x='Condition', y='Effectiveness', hue='Drug', data=depressiondrugs,saturation=.9, ci=None)\n",
    "plt.ylim(3,4.3)\n",
    "plt.title('Effectiveness by Condition')\n",
    "plt.legend(bbox_to_anchor=(1.05,1), loc=2, borderaxespad=0.)\n",
    "plt.xticks(fontsize=8, rotation=80)"
   ]
  }
 ],
 "metadata": {
  "kernelspec": {
   "display_name": "Python 3",
   "language": "python",
   "name": "python3"
  },
  "language_info": {
   "codemirror_mode": {
    "name": "ipython",
    "version": 3
   },
   "file_extension": ".py",
   "mimetype": "text/x-python",
   "name": "python",
   "nbconvert_exporter": "python",
   "pygments_lexer": "ipython3",
   "version": "3.8.8"
  }
 },
 "nbformat": 4,
 "nbformat_minor": 5
}
